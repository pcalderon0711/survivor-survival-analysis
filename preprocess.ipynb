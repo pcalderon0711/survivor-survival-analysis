{
 "cells": [
  {
   "cell_type": "code",
   "execution_count": 3,
   "metadata": {
    "collapsed": true
   },
   "outputs": [],
   "source": [
    "from bs4 import BeautifulSoup\n",
    "import requests\n",
    "import re\n",
    "import pandas as pd\n",
    "import numpy as np"
   ]
  },
  {
   "cell_type": "code",
   "execution_count": 4,
   "metadata": {
    "collapsed": true
   },
   "outputs": [],
   "source": [
    "def turn_to_url(season):\n",
    "    return 'http://survivor.wikia.com/wiki/Survivor:_' + season.replace(' ','_')\n",
    "\n",
    "def process(string):\n",
    "    stripped = string.strip()\n",
    "    return re.sub('[0-9]+', '', stripped)"
   ]
  },
  {
   "cell_type": "code",
   "execution_count": 5,
   "metadata": {
    "collapsed": true
   },
   "outputs": [],
   "source": [
    "seasons = ['Borneo', 'The Australian Outback', 'Africa', 'Marquesas', 'Thailand', 'The Amazon', \n",
    "           'Pearl Islands', 'All-Stars', 'Vanuatu', 'Palau', 'Guatemala', 'Panama', \n",
    "           'Cook Islands', 'Fiji', 'China', 'Micronesia', 'Gabon', 'Tocantins', 'Samoa', \n",
    "           'Heroes vs. Villains', 'Nicaragua', 'Redemption Island', 'South Pacific',\n",
    "           'One World', 'Philippines', 'Caramoan', 'Cagayan', 'San Juan del Sur',\n",
    "           'Worlds Apart', 'Cambodia', 'Kaôh Rōng', 'Millennials vs. Gen X',\n",
    "           'Game Changers', 'Heroes vs. Healers vs. Hustlers', 'Blood vs. Water']"
   ]
  },
  {
   "cell_type": "markdown",
   "metadata": {},
   "source": [
    "# scrape data from web"
   ]
  },
  {
   "cell_type": "code",
   "execution_count": 204,
   "metadata": {
    "collapsed": true
   },
   "outputs": [
    {
     "name": "stdout",
     "output_type": "stream",
     "text": [
      "Borneo\n",
      "The Australian Outback\n",
      "Africa\n",
      "Marquesas\n",
      "Thailand\n",
      "The Amazon\n",
      "Pearl Islands\n",
      "All-Stars\n",
      "Vanuatu\n",
      "Palau\n",
      "Guatemala\n",
      "Panama\n",
      "Cook Islands\n",
      "Fiji\n",
      "China\n",
      "Micronesia\n",
      "Gabon\n",
      "Tocantins\n",
      "Samoa\n",
      "Heroes vs. Villains\n",
      "Nicaragua\n",
      "Redemption Island\n",
      "South Pacific\n",
      "One World\n",
      "Philippines\n",
      "Caramoan\n",
      "Cagayan\n",
      "San Juan del Sur\n",
      "Worlds Apart\n",
      "Cambodia\n",
      "Kaôh Rōng\n",
      "Millennials vs. Gen X\n",
      "Game Changers\n",
      "Heroes vs. Healers vs. Hustlers\n",
      "Blood vs. Water\n"
     ]
    },
    {
     "ename": "IndexError",
     "evalue": "list index out of range",
     "output_type": "error",
     "traceback": [
      "\u001b[0;31m---------------------------------------------------------------------------\u001b[0m",
      "\u001b[0;31mIndexError\u001b[0m                                Traceback (most recent call last)",
      "\u001b[0;32m<ipython-input-204-58cb4a934120>\u001b[0m in \u001b[0;36m<module>\u001b[0;34m()\u001b[0m\n\u001b[1;32m     16\u001b[0m             \u001b[0;32mcontinue\u001b[0m\u001b[0;34m\u001b[0m\u001b[0m\n\u001b[1;32m     17\u001b[0m         \u001b[0mrow_i\u001b[0m \u001b[0;34m=\u001b[0m \u001b[0msummary_table\u001b[0m\u001b[0;34m.\u001b[0m\u001b[0mselect\u001b[0m\u001b[0;34m(\u001b[0m\u001b[0;34m'tr'\u001b[0m\u001b[0;34m)\u001b[0m\u001b[0;34m[\u001b[0m\u001b[0mi\u001b[0m\u001b[0;34m+\u001b[0m\u001b[0mskip\u001b[0m\u001b[0;34m]\u001b[0m\u001b[0;34m\u001b[0m\u001b[0m\n\u001b[0;32m---> 18\u001b[0;31m         \u001b[0mname\u001b[0m \u001b[0;34m=\u001b[0m \u001b[0mrow_i\u001b[0m\u001b[0;34m.\u001b[0m\u001b[0mselect\u001b[0m\u001b[0;34m(\u001b[0m\u001b[0;34m'td b a'\u001b[0m\u001b[0;34m)\u001b[0m\u001b[0;34m[\u001b[0m\u001b[0;36m0\u001b[0m\u001b[0;34m]\u001b[0m\u001b[0;34m.\u001b[0m\u001b[0mtext\u001b[0m\u001b[0;34m\u001b[0m\u001b[0m\n\u001b[0m\u001b[1;32m     19\u001b[0m         \u001b[0mageloc\u001b[0m \u001b[0;34m=\u001b[0m \u001b[0mrow_i\u001b[0m\u001b[0;34m.\u001b[0m\u001b[0mselect\u001b[0m\u001b[0;34m(\u001b[0m\u001b[0;34m'td > small'\u001b[0m\u001b[0;34m)\u001b[0m\u001b[0;34m[\u001b[0m\u001b[0;36m0\u001b[0m\u001b[0;34m]\u001b[0m\u001b[0;34m.\u001b[0m\u001b[0mtext\u001b[0m\u001b[0;34m\u001b[0m\u001b[0m\n\u001b[1;32m     20\u001b[0m         \u001b[0mdaysplacing\u001b[0m \u001b[0;34m=\u001b[0m \u001b[0mrow_i\u001b[0m\u001b[0;34m.\u001b[0m\u001b[0mselect\u001b[0m\u001b[0;34m(\u001b[0m\u001b[0;34m'td'\u001b[0m\u001b[0;34m)\u001b[0m\u001b[0;34m[\u001b[0m\u001b[0mlastdat\u001b[0m\u001b[0;34m]\u001b[0m\u001b[0;34m.\u001b[0m\u001b[0mtext\u001b[0m\u001b[0;34m\u001b[0m\u001b[0m\n",
      "\u001b[0;31mIndexError\u001b[0m: list index out of range"
     ]
    }
   ],
   "source": [
    "data = []\n",
    "for season in seasons:\n",
    "    print(season)\n",
    "    cara = requests.get(turn_to_url(season))\n",
    "    soup = BeautifulSoup(cara.content, 'lxml')\n",
    "    summary_table = soup.select('table.wikitable.article-table')[0]\n",
    "    skip = 2\n",
    "    if season == 'Gabon':\n",
    "        skip = 3\n",
    "    lastdat = -2\n",
    "    if season in ['Redemption Island']:\n",
    "        lastdat = -3\n",
    "    num_contestants = len(summary_table.select('tr'))-skip\n",
    "    for i in range(num_contestants):\n",
    "        if len(summary_table.select('tr')[i+skip].select('td')) in [1, 2]:\n",
    "            continue\n",
    "        row_i = summary_table.select('tr')[i+skip]\n",
    "        name = row_i.select('td b a')[0].text  \n",
    "        ageloc = row_i.select('td > small')[0].text\n",
    "        daysplacing = row_i.select('td')[lastdat].text\n",
    "        data.append({'season': season, 'name': name, 'ageloc': ageloc, 'daysplacing': daysplacing})"
   ]
  },
  {
   "cell_type": "code",
   "execution_count": 96,
   "metadata": {},
   "outputs": [],
   "source": [
    "rr = pd.DataFrame(data)"
   ]
  },
  {
   "cell_type": "code",
   "execution_count": 97,
   "metadata": {},
   "outputs": [],
   "source": [
    "rr['age'] = rr['ageloc'].str.split(',').map(lambda x: x[0])"
   ]
  },
  {
   "cell_type": "code",
   "execution_count": 98,
   "metadata": {},
   "outputs": [],
   "source": [
    "rr['state'] = rr['ageloc'].str.split(',').map(lambda x: x[2][:3])"
   ]
  },
  {
   "cell_type": "code",
   "execution_count": null,
   "metadata": {
    "collapsed": true
   },
   "outputs": [],
   "source": [
    "def check(row):\n",
    "    x = row['daysplacing']\n",
    "    last = ['Runner-Up', 'Sole Survivor', 'Runners-Up']\n",
    "    for censored in last:\n",
    "        if censored in x:\n",
    "            if row['season'] == 'The Australian Outback':\n",
    "                return 42\n",
    "            else:\n",
    "                return 39\n",
    "    else:\n",
    "        return x[x.find('Day')+4:x.find('Day')+6].strip()"
   ]
  },
  {
   "cell_type": "code",
   "execution_count": 99,
   "metadata": {},
   "outputs": [],
   "source": [
    "rr['elim'] = rr.apply(check, axis=1)"
   ]
  },
  {
   "cell_type": "code",
   "execution_count": 101,
   "metadata": {},
   "outputs": [],
   "source": [
    "rr['stripped'] = rr['daysplacing'].str.split('\\n')"
   ]
  },
  {
   "cell_type": "code",
   "execution_count": 102,
   "metadata": {},
   "outputs": [],
   "source": [
    "rr['is_censored'] = ~rr['daysplacing'].str.contains('Voted Out')"
   ]
  },
  {
   "cell_type": "code",
   "execution_count": null,
   "metadata": {
    "collapsed": true
   },
   "outputs": [],
   "source": [
    "rr['is_censored'] = rr['is_censored'].astype(int)"
   ]
  },
  {
   "cell_type": "code",
   "execution_count": 117,
   "metadata": {},
   "outputs": [],
   "source": [
    "rv = rr[['name', 'season', 'age', 'state', 'elim', 'is_censored']]"
   ]
  },
  {
   "cell_type": "markdown",
   "metadata": {},
   "source": [
    "# fix wrong entries"
   ]
  },
  {
   "cell_type": "code",
   "execution_count": 194,
   "metadata": {},
   "outputs": [
    {
     "name": "stderr",
     "output_type": "stream",
     "text": [
      "/home/pcalderon/anaconda3/lib/python3.6/site-packages/pandas/core/indexing.py:537: SettingWithCopyWarning: \n",
      "A value is trying to be set on a copy of a slice from a DataFrame.\n",
      "Try using .loc[row_indexer,col_indexer] = value instead\n",
      "\n",
      "See the caveats in the documentation: http://pandas.pydata.org/pandas-docs/stable/indexing.html#indexing-view-versus-copy\n",
      "  self.obj[item] = s\n"
     ]
    }
   ],
   "source": [
    "rv.iloc[94,3] = 'DC' # Matthew Amazon\n",
    "rv.iloc[107,4] = 36 # Burton PI\n",
    "rv.iloc[110,4] = 39\n",
    "rv.iloc[110,5] = 1 # Lil PI\n",
    "\n",
    "# redemption\n",
    "rv.iloc[385,4] = 38\n",
    "rv.iloc[385,5] = 0\n",
    "rv.iloc[386,4] = 39\n",
    "rv.iloc[387,4] = 39\n",
    "rv.iloc[388,4] = 39\n",
    "\n",
    "#south pacific\n",
    "rv.iloc[389:404,4] = [3,8,11,14,16,5,24,21,27,27,30,32,35,37,38]\n",
    "rv.iloc[389:404,5] = 0\n",
    "\n",
    "#michael skupin\n",
    "rv.iloc[441,4] = 39\n",
    "#sheri\n",
    "rv.iloc[461,4] = 39\n",
    "#will sims\n",
    "rv.iloc[515,4] = 39\n",
    "#tasha\n",
    "rv.iloc[535,4] = 39\n",
    "#ken\n",
    "rv.iloc[573,4] = 39\n",
    "\n",
    "rv['state'] = rv['state'].str.strip()\n",
    "rv['state'] = rv['state'].map(lambda x: 'DC' if x == 'D.' else x)"
   ]
  },
  {
   "cell_type": "code",
   "execution_count": 208,
   "metadata": {},
   "outputs": [],
   "source": [
    "rv.to_csv('castaways.csv', index=False)"
   ]
  },
  {
   "cell_type": "code",
   "execution_count": null,
   "metadata": {
    "collapsed": true
   },
   "outputs": [],
   "source": []
  },
  {
   "cell_type": "markdown",
   "metadata": {},
   "source": [
    "# after labelling male and female, divide into groups based on:\n",
    "## 1. geographic: east coast vs west coast vs no coast\n",
    "## 2. geographic: northeast vs midwest vs south vs west\n",
    "## 3. age group: young vs old\n",
    "## 4. old school vs new school: age group and sex"
   ]
  },
  {
   "cell_type": "code",
   "execution_count": null,
   "metadata": {
    "collapsed": true
   },
   "outputs": [],
   "source": []
  },
  {
   "cell_type": "code",
   "execution_count": 10,
   "metadata": {
    "collapsed": true
   },
   "outputs": [],
   "source": [
    "west = ['WA', 'OR', 'CA', 'NV', 'ID', 'MT', 'WY', 'UT', 'CO', 'AZ', 'NM']\n",
    "midwest = ['ND', 'SD', 'NE', 'KS', 'MN', 'IA', 'MO', 'WI', 'IL', 'IN', 'MI', 'OH']\n",
    "south = ['OK', 'TX', 'AR', 'LA', 'MS', 'AL', 'TN', 'KY', 'WV', 'DC', 'MD', 'DE', 'VA', 'NC', 'SC', 'GA', 'FL']\n",
    "northeast = ['PA', 'NY', 'VT', 'NH', 'ME', 'MA', 'CT', 'RI', 'NJ']"
   ]
  },
  {
   "cell_type": "code",
   "execution_count": 18,
   "metadata": {
    "collapsed": true
   },
   "outputs": [],
   "source": [
    "eastcoast = ['ME', 'NH', 'MA', 'RI', 'CT', 'NY', 'NJ', 'DE', 'ML', 'VA', 'NC', 'SC', 'GA', 'FL']\n",
    "westcoast = ['CA', 'OR', 'WA']"
   ]
  },
  {
   "cell_type": "code",
   "execution_count": 34,
   "metadata": {},
   "outputs": [],
   "source": [
    "ca = pd.read_csv('castaways.csv')"
   ]
  },
  {
   "cell_type": "code",
   "execution_count": 35,
   "metadata": {},
   "outputs": [],
   "source": [
    "def map_state_to_region(state):\n",
    "    if state in west:\n",
    "        return 'West'\n",
    "    elif state in midwest:\n",
    "        return 'Midwest'\n",
    "    elif state in south:\n",
    "        return 'South'\n",
    "    elif state in northeast:\n",
    "        return 'Northeast'\n",
    "    else:\n",
    "        return 'NULL'"
   ]
  },
  {
   "cell_type": "code",
   "execution_count": 36,
   "metadata": {
    "collapsed": true
   },
   "outputs": [],
   "source": [
    "def map_state_to_coast(state):\n",
    "    if state in eastcoast:\n",
    "        return 'East Coast'\n",
    "    elif state in westcoast:\n",
    "        return 'West Coast'\n",
    "    else:\n",
    "        return 'Not Coast'"
   ]
  },
  {
   "cell_type": "code",
   "execution_count": 37,
   "metadata": {
    "collapsed": true
   },
   "outputs": [],
   "source": [
    "def map_season_to_school(season):\n",
    "    if season in seasons[:18]:\n",
    "        return 'Old School'\n",
    "    else:\n",
    "        return 'New School'"
   ]
  },
  {
   "cell_type": "code",
   "execution_count": 56,
   "metadata": {
    "collapsed": true
   },
   "outputs": [],
   "source": [
    "def map_age_group(age):\n",
    "    if age <= 35:\n",
    "        return 'Young'\n",
    "    elif age <= 50:\n",
    "        return 'Middle'\n",
    "    else:\n",
    "        return 'Old'"
   ]
  },
  {
   "cell_type": "code",
   "execution_count": 39,
   "metadata": {},
   "outputs": [],
   "source": [
    "ca['region'] = ca['state'].map(map_state_to_region)"
   ]
  },
  {
   "cell_type": "code",
   "execution_count": 40,
   "metadata": {},
   "outputs": [],
   "source": [
    "ca['coast'] = ca['state'].map(map_state_to_coast)"
   ]
  },
  {
   "cell_type": "code",
   "execution_count": 41,
   "metadata": {},
   "outputs": [],
   "source": [
    "ca['school'] = ca['season'].map(map_season_to_school)"
   ]
  },
  {
   "cell_type": "code",
   "execution_count": 57,
   "metadata": {},
   "outputs": [],
   "source": [
    "ca['agegroup'] = ca['age'].map(map_age_group)"
   ]
  },
  {
   "cell_type": "code",
   "execution_count": 44,
   "metadata": {},
   "outputs": [],
   "source": [
    "ca['is_male'] = ca['is_male'].map(lambda x: 'Male' if x == 1 else 'Female')"
   ]
  },
  {
   "cell_type": "code",
   "execution_count": 58,
   "metadata": {},
   "outputs": [
    {
     "data": {
      "text/plain": [
       "Young     415\n",
       "Middle    168\n",
       "Old        50\n",
       "Name: agegroup, dtype: int64"
      ]
     },
     "execution_count": 58,
     "metadata": {},
     "output_type": "execute_result"
    }
   ],
   "source": [
    "ca['agegroup'].value_counts()"
   ]
  },
  {
   "cell_type": "code",
   "execution_count": 62,
   "metadata": {},
   "outputs": [],
   "source": [
    "ca.to_csv('castaways2.csv', index=False)"
   ]
  },
  {
   "cell_type": "code",
   "execution_count": null,
   "metadata": {
    "collapsed": true
   },
   "outputs": [],
   "source": []
  }
 ],
 "metadata": {
  "kernelspec": {
   "display_name": "Python 3",
   "language": "python",
   "name": "python3"
  },
  "language_info": {
   "codemirror_mode": {
    "name": "ipython",
    "version": 3
   },
   "file_extension": ".py",
   "mimetype": "text/x-python",
   "name": "python",
   "nbconvert_exporter": "python",
   "pygments_lexer": "ipython3",
   "version": "3.6.1"
  }
 },
 "nbformat": 4,
 "nbformat_minor": 2
}
